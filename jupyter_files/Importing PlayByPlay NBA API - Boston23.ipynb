{
 "cells": [
  {
   "cell_type": "markdown",
   "id": "d4b72bfb",
   "metadata": {},
   "source": [
    "Hackathon: Women in Sports Data 2023\n",
    "<br>\n",
    "<br>Author: Isabella Couto Carlos\n",
    "<br>Date: 7/29/23\n",
    "<br>"
   ]
  },
  {
   "cell_type": "markdown",
   "id": "d8b25e62",
   "metadata": {},
   "source": [
    "Reference: https://github.com/swar/nba_api/tree/master/src/nba_api/stats/endpoints"
   ]
  },
  {
   "cell_type": "markdown",
   "id": "c1e6f000",
   "metadata": {},
   "source": [
    "# Importing libraries"
   ]
  },
  {
   "cell_type": "code",
   "execution_count": 1,
   "id": "821acb0a",
   "metadata": {},
   "outputs": [
    {
     "name": "stdout",
     "output_type": "stream",
     "text": [
      "Requirement already satisfied: nba_api in c:\\users\\isabella\\anaconda3\\lib\\site-packages (1.2.1)\n",
      "Requirement already satisfied: requests in c:\\users\\isabella\\anaconda3\\lib\\site-packages (from nba_api) (2.28.1)\n",
      "Requirement already satisfied: numpy<2.0.0,>=1.22.2 in c:\\users\\isabella\\anaconda3\\lib\\site-packages (from nba_api) (1.25.0)\n",
      "Requirement already satisfied: idna<4,>=2.5 in c:\\users\\isabella\\anaconda3\\lib\\site-packages (from requests->nba_api) (3.3)\n",
      "Requirement already satisfied: certifi>=2017.4.17 in c:\\users\\isabella\\anaconda3\\lib\\site-packages (from requests->nba_api) (2022.9.14)\n",
      "Requirement already satisfied: charset-normalizer<3,>=2 in c:\\users\\isabella\\anaconda3\\lib\\site-packages (from requests->nba_api) (2.0.4)\n",
      "Requirement already satisfied: urllib3<1.27,>=1.21.1 in c:\\users\\isabella\\anaconda3\\lib\\site-packages (from requests->nba_api) (1.26.11)\n",
      "Note: you may need to restart the kernel to use updated packages.\n"
     ]
    }
   ],
   "source": [
    "%pip install nba_api"
   ]
  },
  {
   "cell_type": "code",
   "execution_count": 2,
   "id": "ac8a9a94",
   "metadata": {},
   "outputs": [],
   "source": [
    "import pandas as pd\n",
    "import requests\n",
    "import jsonlines\n",
    "import json\n",
    "import numpy as np"
   ]
  },
  {
   "cell_type": "code",
   "execution_count": 3,
   "id": "0067663e",
   "metadata": {},
   "outputs": [],
   "source": [
    "from nba_api.stats.endpoints._base import Endpoint\n",
    "from nba_api.stats.library.http import NBAStatsHTTP\n",
    "from nba_api.stats.library.parameters import EndPeriod, StartPeriod \n",
    "import pandas as pd"
   ]
  },
  {
   "cell_type": "markdown",
   "id": "ca33ab9b",
   "metadata": {},
   "source": [
    "# Importing data"
   ]
  },
  {
   "cell_type": "code",
   "execution_count": 9,
   "id": "97bc76f9",
   "metadata": {},
   "outputs": [],
   "source": [
    "class PlayByPlay(Endpoint):\n",
    "    endpoint = 'playbyplay'\n",
    "    expected_data = {'AvailableVideo': ['VIDEO_AVAILABLE_FLAG'], 'PlayByPlay': ['GAME_ID', 'EVENTNUM', 'EVENTMSGTYPE', 'EVENTMSGACTIONTYPE', 'PERIOD', 'WCTIMESTRING', 'PCTIMESTRING', 'HOMEDESCRIPTION', 'NEUTRALDESCRIPTION', 'VISITORDESCRIPTION', 'SCORE', 'SCOREMARGIN']}\n",
    "\n",
    "    nba_response = None\n",
    "    data_sets = None\n",
    "    player_stats = None\n",
    "    team_stats = None\n",
    "    headers = None\n",
    "    \n",
    "\n",
    "    def __init__(self,\n",
    "                 game_id,\n",
    "                 end_period=EndPeriod.default,\n",
    "                 start_period=StartPeriod.default,\n",
    "                 proxy=None,\n",
    "                 headers=None,\n",
    "                 timeout=30,\n",
    "                 get_request=True):\n",
    "        self.proxy = proxy\n",
    "        if headers is not None:\n",
    "            self.headers = headers\n",
    "        self.timeout = timeout\n",
    "        self.parameters = {\n",
    "                'GameID': game_id,\n",
    "                'EndPeriod': end_period,\n",
    "                'StartPeriod': start_period\n",
    "        }\n",
    "        if get_request:\n",
    "            self.get_request()\n",
    "    \n",
    "    def get_request(self):\n",
    "        self.nba_response = NBAStatsHTTP().send_api_request(\n",
    "            endpoint=self.endpoint,\n",
    "            parameters=self.parameters,\n",
    "            proxy=self.proxy,\n",
    "            headers=self.headers,\n",
    "            timeout=self.timeout,\n",
    "        )\n",
    "        self.load_response()\n",
    "        \n",
    "    def load_response(self):\n",
    "        data_sets = self.nba_response.get_data_sets()\n",
    "        self.data_sets = [Endpoint.DataSet(data=data_set) for data_set_name, data_set in data_sets.items()]\n",
    "        self.available_video = Endpoint.DataSet(data=data_sets['AvailableVideo'])\n",
    "        self.play_by_play = Endpoint.DataSet(data=data_sets['PlayByPlay'])\n",
    "        \n",
    "        \n",
    "        self.list_tot = []\n",
    "        \n",
    "        self.list = list(data_sets['PlayByPlay']['headers'])\n",
    "        self.list_tot.append(self.list)\n",
    "        \n",
    "        #self.list_body = []\n",
    "        i = 0\n",
    "        while i <= len(data_sets['PlayByPlay']['data'])-1:\n",
    "            self.new = data_sets['PlayByPlay']['data'][i]\n",
    "            self.list_tot.append(self.new)\n",
    "            i = i+1\n",
    "        \n",
    "        self.df2 = pd.DataFrame(columns=self.list_tot)\n",
    "        self.df2.to_csv(r\"playbyplay1.csv\", index=False)"
   ]
  },
  {
   "cell_type": "code",
   "execution_count": 14,
   "id": "fd2249f9",
   "metadata": {},
   "outputs": [],
   "source": [
    "# Insert here the id of the game you need to import info about\n",
    "\n",
    "data = PlayByPlay(\"0042100301\")"
   ]
  },
  {
   "cell_type": "code",
   "execution_count": null,
   "id": "25a4b9b8",
   "metadata": {},
   "outputs": [],
   "source": []
  }
 ],
 "metadata": {
  "kernelspec": {
   "display_name": "Python 3 (ipykernel)",
   "language": "python",
   "name": "python3"
  },
  "language_info": {
   "codemirror_mode": {
    "name": "ipython",
    "version": 3
   },
   "file_extension": ".py",
   "mimetype": "text/x-python",
   "name": "python",
   "nbconvert_exporter": "python",
   "pygments_lexer": "ipython3",
   "version": "3.9.13"
  },
  "toc": {
   "base_numbering": 1,
   "nav_menu": {},
   "number_sections": true,
   "sideBar": true,
   "skip_h1_title": false,
   "title_cell": "Table of Contents",
   "title_sidebar": "Contents",
   "toc_cell": false,
   "toc_position": {},
   "toc_section_display": true,
   "toc_window_display": false
  },
  "varInspector": {
   "cols": {
    "lenName": 16,
    "lenType": 16,
    "lenVar": 40
   },
   "kernels_config": {
    "python": {
     "delete_cmd_postfix": "",
     "delete_cmd_prefix": "del ",
     "library": "var_list.py",
     "varRefreshCmd": "print(var_dic_list())"
    },
    "r": {
     "delete_cmd_postfix": ") ",
     "delete_cmd_prefix": "rm(",
     "library": "var_list.r",
     "varRefreshCmd": "cat(var_dic_list()) "
    }
   },
   "types_to_exclude": [
    "module",
    "function",
    "builtin_function_or_method",
    "instance",
    "_Feature"
   ],
   "window_display": false
  }
 },
 "nbformat": 4,
 "nbformat_minor": 5
}
