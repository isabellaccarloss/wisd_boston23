{
 "cells": [
  {
   "cell_type": "markdown",
   "id": "bff52ce0",
   "metadata": {},
   "source": [
    "Hackathon: Women in Sports Data 2023\n",
    "<br>\n",
    "<br>Author: Isabella Couto Carlos\n",
    "<br>Date: 7/29/23\n",
    "<br>"
   ]
  },
  {
   "cell_type": "markdown",
   "id": "0b9dab64",
   "metadata": {},
   "source": [
    "# Importing libraries"
   ]
  },
  {
   "cell_type": "code",
   "execution_count": null,
   "id": "80f22deb",
   "metadata": {
    "scrolled": true
   },
   "outputs": [],
   "source": [
    "%pip install boto3\n",
    "%pip install jsonlines\n",
    "%pip install jsonlines pandas"
   ]
  },
  {
   "cell_type": "code",
   "execution_count": 2,
   "id": "557930c2",
   "metadata": {},
   "outputs": [],
   "source": [
    "import boto3\n",
    "import jsonlines\n",
    "import pandas as pd\n",
    "import json"
   ]
  },
  {
   "cell_type": "markdown",
   "id": "fcbba334",
   "metadata": {},
   "source": [
    "# Accessing AWS 3"
   ]
  },
  {
   "cell_type": "code",
   "execution_count": 2,
   "id": "ea7e1c0a",
   "metadata": {},
   "outputs": [],
   "source": [
    "# Replace with your credentials\n",
    "session = boto3.Session(\n",
    "    aws_access_key_id='XXXXXXXX',\n",
    "    aws_secret_access_key='XXXXXXXX'\n",
    ")"
   ]
  },
  {
   "cell_type": "code",
   "execution_count": 3,
   "id": "c497aaa9",
   "metadata": {},
   "outputs": [],
   "source": [
    "s3_client = session.client('s3')"
   ]
  },
  {
   "cell_type": "code",
   "execution_count": 4,
   "id": "516b2041",
   "metadata": {
    "scrolled": true
   },
   "outputs": [
    {
     "name": "stdout",
     "output_type": "stream",
     "text": [
      "games/0042100301/0042100301_events.jsonl\n",
      "games/0042100301/0042100301_tracking.jsonl\n",
      "games/0042100302/0042100302_events.jsonl\n",
      "games/0042100302/0042100302_tracking.jsonl\n",
      "games/0042100303/0042100303_events.jsonl\n",
      "games/0042100303/0042100303_tracking.jsonl\n",
      "games/0042100304/0042100304_events.jsonl\n",
      "games/0042100304/0042100304_tracking.jsonl\n",
      "games/0042100305/0042100305_events.jsonl\n",
      "games/0042100305/0042100305_tracking.jsonl\n",
      "games/0042100306/0042100306_events.jsonl\n",
      "games/0042100306/0042100306_tracking.jsonl\n",
      "games/0042100307/0042100307_events.jsonl\n",
      "games/0042100307/0042100307_tracking.jsonl\n",
      "games/0042100311/0042100311_events.jsonl\n",
      "games/0042100311/0042100311_tracking.jsonl\n",
      "games/0042100312/0042100312_events.jsonl\n",
      "games/0042100312/0042100312_tracking.jsonl\n",
      "games/0042100313/0042100313_events.jsonl\n",
      "games/0042100313/0042100313_tracking.jsonl\n",
      "games/0042100314/0042100314_events.jsonl\n",
      "games/0042100314/0042100314_tracking.jsonl\n",
      "games/0042100315/0042100315_events.jsonl\n",
      "games/0042100315/0042100315_tracking.jsonl\n",
      "games/0042100401/0042100401_events.jsonl\n",
      "games/0042100401/0042100401_tracking.jsonl\n",
      "games/0042100402/0042100402_events.jsonl\n",
      "games/0042100402/0042100402_tracking.jsonl\n",
      "games/0042100403/0042100403_events.jsonl\n",
      "games/0042100403/0042100403_tracking.jsonl\n",
      "games/0042100404/0042100404_events.jsonl\n",
      "games/0042100404/0042100404_tracking.jsonl\n",
      "games/0042100405/0042100405_events.jsonl\n",
      "games/0042100405/0042100405_tracking.jsonl\n",
      "games/0042100406/0042100406_events.jsonl\n",
      "games/0042100406/0042100406_tracking.jsonl\n",
      "metadata/games.json\n",
      "metadata/players.json\n",
      "metadata/teams.json\n"
     ]
    }
   ],
   "source": [
    "response = s3_client.list_objects(Bucket='sportradar-wisd-data')\n",
    "for obj in response['Contents']:\n",
    "    print(obj['Key'])"
   ]
  },
  {
   "cell_type": "markdown",
   "id": "2527c711",
   "metadata": {},
   "source": [
    "# Importing data"
   ]
  },
  {
   "cell_type": "markdown",
   "id": "82025ff3",
   "metadata": {},
   "source": [
    "## Events"
   ]
  },
  {
   "cell_type": "code",
   "execution_count": null,
   "id": "05f4973b",
   "metadata": {},
   "outputs": [],
   "source": [
    "keyname = \"games/0042100301/0042100301_events.jsonl\"\n",
    "\n",
    "data = [json.loads(line) for line in s3_client.get_object(Bucket='sportradar-wisd-data', Key=keyname)['Body'].read().decode('utf-8').strip().split('\\n')]\n",
    "\n",
    "d1 = pd.DataFrame(data)\n",
    "d1['nbaId'] = 42100301"
   ]
  },
  {
   "cell_type": "code",
   "execution_count": null,
   "id": "3d515275",
   "metadata": {},
   "outputs": [],
   "source": [
    "keyname = \"games/0042100302/0042100302_events.jsonl\"\n",
    "\n",
    "data = [json.loads(line) for line in s3_client.get_object(Bucket='sportradar-wisd-data', Key=keyname)['Body'].read().decode('utf-8').strip().split('\\n')]\n",
    "\n",
    "d3 = pd.DataFrame(data)\n",
    "d3['nbaId'] = 42100302"
   ]
  },
  {
   "cell_type": "code",
   "execution_count": null,
   "id": "72437d88",
   "metadata": {},
   "outputs": [],
   "source": [
    "keyname = \"games/0042100303/0042100303_events.jsonl\"\n",
    "\n",
    "data = [json.loads(line) for line in s3_client.get_object(Bucket='sportradar-wisd-data', Key=keyname)['Body'].read().decode('utf-8').strip().split('\\n')]\n",
    "\n",
    "d5 = pd.DataFrame(data)\n",
    "d5['nbaId'] = 42100303"
   ]
  },
  {
   "cell_type": "code",
   "execution_count": null,
   "id": "1c3ac042",
   "metadata": {},
   "outputs": [],
   "source": [
    "keyname = \"games/0042100304/0042100304_events.jsonl\"\n",
    "\n",
    "data = [json.loads(line) for line in s3_client.get_object(Bucket='sportradar-wisd-data', Key=keyname)['Body'].read().decode('utf-8').strip().split('\\n')]\n",
    "\n",
    "d7 = pd.DataFrame(data)\n",
    "d7['nbaId'] = 42100304"
   ]
  },
  {
   "cell_type": "code",
   "execution_count": null,
   "id": "d43c194f",
   "metadata": {},
   "outputs": [],
   "source": [
    "keyname = \"games/0042100305/0042100305_events.jsonl\"\n",
    "\n",
    "data = [json.loads(line) for line in s3_client.get_object(Bucket='sportradar-wisd-data', Key=keyname)['Body'].read().decode('utf-8').strip().split('\\n')]\n",
    "\n",
    "d9 = pd.DataFrame(data)\n",
    "d9['nbaId'] = 42100305"
   ]
  },
  {
   "cell_type": "code",
   "execution_count": null,
   "id": "540b1ac6",
   "metadata": {},
   "outputs": [],
   "source": [
    "keyname = \"games/0042100306/0042100306_events.jsonl\"\n",
    "\n",
    "data = [json.loads(line) for line in s3_client.get_object(Bucket='sportradar-wisd-data', Key=keyname)['Body'].read().decode('utf-8').strip().split('\\n')]\n",
    "\n",
    "d11 = pd.DataFrame(data)\n",
    "d11['nbaId'] = 42100306"
   ]
  },
  {
   "cell_type": "code",
   "execution_count": null,
   "id": "a3da4c18",
   "metadata": {},
   "outputs": [],
   "source": [
    "keyname = \"games/0042100307/0042100307_events.jsonl\"\n",
    "\n",
    "data = [json.loads(line) for line in s3_client.get_object(Bucket='sportradar-wisd-data', Key=keyname)['Body'].read().decode('utf-8').strip().split('\\n')]\n",
    "\n",
    "d13 = pd.DataFrame(data)\n",
    "d13['nbaId'] = 42100307"
   ]
  },
  {
   "cell_type": "code",
   "execution_count": null,
   "id": "00d793aa",
   "metadata": {},
   "outputs": [],
   "source": [
    "keyname = \"games/0042100311/0042100311_events.jsonl\"\n",
    "\n",
    "data = [json.loads(line) for line in s3_client.get_object(Bucket='sportradar-wisd-data', Key=keyname)['Body'].read().decode('utf-8').strip().split('\\n')]\n",
    "\n",
    "d15 = pd.DataFrame(data)\n",
    "d15['nbaId'] = 42100311"
   ]
  },
  {
   "cell_type": "code",
   "execution_count": null,
   "id": "48dc76ac",
   "metadata": {},
   "outputs": [],
   "source": [
    "keyname = \"games/0042100312/0042100312_events.jsonl\"\n",
    "\n",
    "data = [json.loads(line) for line in s3_client.get_object(Bucket='sportradar-wisd-data', Key=keyname)['Body'].read().decode('utf-8').strip().split('\\n')]\n",
    "\n",
    "d17 = pd.DataFrame(data)\n",
    "d17['nbaId'] = 42100312"
   ]
  },
  {
   "cell_type": "code",
   "execution_count": null,
   "id": "44b7ba3b",
   "metadata": {},
   "outputs": [],
   "source": [
    "keyname = \"games/0042100313/0042100313_events.jsonl\"\n",
    "\n",
    "data = [json.loads(line) for line in s3_client.get_object(Bucket='sportradar-wisd-data', Key=keyname)['Body'].read().decode('utf-8').strip().split('\\n')]\n",
    "\n",
    "d19 = pd.DataFrame(data)\n",
    "d19['nbaId'] = 42100313"
   ]
  },
  {
   "cell_type": "code",
   "execution_count": null,
   "id": "6f047ebd",
   "metadata": {},
   "outputs": [],
   "source": [
    "keyname = \"games/0042100314/0042100314_events.jsonl\"\n",
    "\n",
    "data = [json.loads(line) for line in s3_client.get_object(Bucket='sportradar-wisd-data', Key=keyname)['Body'].read().decode('utf-8').strip().split('\\n')]\n",
    "\n",
    "d21 = pd.DataFrame(data)\n",
    "d21['nbaId'] = 42100314"
   ]
  },
  {
   "cell_type": "code",
   "execution_count": null,
   "id": "71114b96",
   "metadata": {},
   "outputs": [],
   "source": [
    "keyname = \"games/0042100315/0042100315_events.jsonl\"\n",
    "\n",
    "data = [json.loads(line) for line in s3_client.get_object(Bucket='sportradar-wisd-data', Key=keyname)['Body'].read().decode('utf-8').strip().split('\\n')]\n",
    "\n",
    "d23 = pd.DataFrame(data)\n",
    "d23['nbaId'] = 42100315"
   ]
  },
  {
   "cell_type": "code",
   "execution_count": null,
   "id": "c415a806",
   "metadata": {},
   "outputs": [],
   "source": [
    "keyname = \"games/0042100401/0042100401_events.jsonl\"\n",
    "\n",
    "data = [json.loads(line) for line in s3_client.get_object(Bucket='sportradar-wisd-data', Key=keyname)['Body'].read().decode('utf-8').strip().split('\\n')]\n",
    "\n",
    "d25 = pd.DataFrame(data)\n",
    "d25['nbaId'] = 42100401"
   ]
  },
  {
   "cell_type": "code",
   "execution_count": null,
   "id": "d4f2ca99",
   "metadata": {},
   "outputs": [],
   "source": [
    "keyname = \"games/0042100402/0042100402_events.jsonl\"\n",
    "\n",
    "data = [json.loads(line) for line in s3_client.get_object(Bucket='sportradar-wisd-data', Key=keyname)['Body'].read().decode('utf-8').strip().split('\\n')]\n",
    "\n",
    "d27 = pd.DataFrame(data)\n",
    "d27['nbaId'] = 42100402"
   ]
  },
  {
   "cell_type": "code",
   "execution_count": null,
   "id": "d166e323",
   "metadata": {},
   "outputs": [],
   "source": [
    "keyname = \"games/0042100403/0042100403_events.jsonl\"\n",
    "\n",
    "data = [json.loads(line) for line in s3_client.get_object(Bucket='sportradar-wisd-data', Key=keyname)['Body'].read().decode('utf-8').strip().split('\\n')]\n",
    "\n",
    "d29 = pd.DataFrame(data)\n",
    "d29['nbaId'] = 42100403"
   ]
  },
  {
   "cell_type": "code",
   "execution_count": null,
   "id": "9a21fd42",
   "metadata": {},
   "outputs": [],
   "source": [
    "keyname = \"games/0042100404/0042100404_events.jsonl\"\n",
    "\n",
    "data = [json.loads(line) for line in s3_client.get_object(Bucket='sportradar-wisd-data', Key=keyname)['Body'].read().decode('utf-8').strip().split('\\n')]\n",
    "\n",
    "d31 = pd.DataFrame(data)\n",
    "d31['nbaId'] = 42100404"
   ]
  },
  {
   "cell_type": "code",
   "execution_count": null,
   "id": "21d7e832",
   "metadata": {},
   "outputs": [],
   "source": [
    "keyname = \"games/0042100405/0042100405_events.jsonl\"\n",
    "\n",
    "data = [json.loads(line) for line in s3_client.get_object(Bucket='sportradar-wisd-data', Key=keyname)['Body'].read().decode('utf-8').strip().split('\\n')]\n",
    "\n",
    "d33 = pd.DataFrame(data)\n",
    "d33['nbaId'] = 42100405"
   ]
  },
  {
   "cell_type": "code",
   "execution_count": null,
   "id": "45f0a0f4",
   "metadata": {},
   "outputs": [],
   "source": [
    "keyname = \"games/0042100406/0042100406_events.jsonl\"\n",
    "\n",
    "data = [json.loads(line) for line in s3_client.get_object(Bucket='sportradar-wisd-data', Key=keyname)['Body'].read().decode('utf-8').strip().split('\\n')]\n",
    "\n",
    "d35 = pd.DataFrame(data)\n",
    "d35['nbaId'] = 42100406"
   ]
  },
  {
   "cell_type": "code",
   "execution_count": null,
   "id": "94f4ee66",
   "metadata": {},
   "outputs": [],
   "source": [
    "events = pd.concat([d1, d3, d5, d7, d9, d11, d13, d15, d17, d19, d21, d23, d25, d27, d29, d31, d33, d35])"
   ]
  },
  {
   "cell_type": "code",
   "execution_count": null,
   "id": "0235cf2d",
   "metadata": {},
   "outputs": [],
   "source": [
    "events.head()"
   ]
  },
  {
   "cell_type": "code",
   "execution_count": null,
   "id": "b9c09fd0",
   "metadata": {},
   "outputs": [],
   "source": [
    "# Tranforming the players columns into 5 players columns\n",
    "\n",
    "events[['homePlayer1', 'homePlayer2', 'homePlayer3', 'homePlayer4', 'homePlayer5']] = pd.DataFrame(events['homePlayers'].tolist())\n",
    "events[['awayPlayer1', 'awayPlayer2', 'awayPlayer3', 'awayPlayer4', 'awayPlayer5']] = pd.DataFrame(events['awayPlayers'].tolist())"
   ]
  },
  {
   "cell_type": "code",
   "execution_count": null,
   "id": "324394f4",
   "metadata": {},
   "outputs": [],
   "source": [
    "columns_to_drop = ['homePlayers', 'awayPlayers']\n",
    "events.drop(columns_to_drop, axis=1, inplace=True)"
   ]
  },
  {
   "cell_type": "code",
   "execution_count": null,
   "id": "2047bd53",
   "metadata": {},
   "outputs": [],
   "source": [
    "events.columns"
   ]
  },
  {
   "cell_type": "code",
   "execution_count": null,
   "id": "d31ec436",
   "metadata": {},
   "outputs": [],
   "source": [
    "# Saving events table (optional)\n",
    "#events.to_csv(r\"events.csv\", index=False)"
   ]
  },
  {
   "cell_type": "markdown",
   "id": "0fed5dd4",
   "metadata": {},
   "source": [
    "## Tracking"
   ]
  },
  {
   "cell_type": "code",
   "execution_count": 5,
   "id": "626749ca",
   "metadata": {},
   "outputs": [],
   "source": [
    "keyname = \"games/0042100301/0042100301_tracking.jsonl\"\n",
    "\n",
    "data = [json.loads(line) for line in s3_client.get_object(Bucket='sportradar-wisd-data', Key=keyname)['Body'].read().decode('utf-8').strip().split('\\n')]\n",
    "\n",
    "d2 = pd.DataFrame(data)\n",
    "d2['nbaId'] = 42100301"
   ]
  },
  {
   "cell_type": "code",
   "execution_count": 6,
   "id": "90e6c9a1",
   "metadata": {},
   "outputs": [],
   "source": [
    "keyname = \"games/0042100302/0042100302_tracking.jsonl\"\n",
    "\n",
    "data = [json.loads(line) for line in s3_client.get_object(Bucket='sportradar-wisd-data', Key=keyname)['Body'].read().decode('utf-8').strip().split('\\n')]\n",
    "\n",
    "d4 = pd.DataFrame(data)\n",
    "d4['nbaId'] = 42100302"
   ]
  },
  {
   "cell_type": "code",
   "execution_count": 7,
   "id": "b80c29be",
   "metadata": {},
   "outputs": [],
   "source": [
    "keyname = \"games/0042100303/0042100303_tracking.jsonl\"\n",
    "\n",
    "data = [json.loads(line) for line in s3_client.get_object(Bucket='sportradar-wisd-data', Key=keyname)['Body'].read().decode('utf-8').strip().split('\\n')]\n",
    "\n",
    "d6 = pd.DataFrame(data)\n",
    "d6['nbaId'] = 42100303"
   ]
  },
  {
   "cell_type": "code",
   "execution_count": 8,
   "id": "4dba1448",
   "metadata": {},
   "outputs": [],
   "source": [
    "keyname = \"games/0042100304/0042100304_tracking.jsonl\"\n",
    "\n",
    "data = [json.loads(line) for line in s3_client.get_object(Bucket='sportradar-wisd-data', Key=keyname)['Body'].read().decode('utf-8').strip().split('\\n')]\n",
    "\n",
    "d8 = pd.DataFrame(data)\n",
    "d8['nbaId'] = 42100304"
   ]
  },
  {
   "cell_type": "code",
   "execution_count": 9,
   "id": "91371bf9",
   "metadata": {},
   "outputs": [],
   "source": [
    "keyname = \"games/0042100305/0042100305_tracking.jsonl\"\n",
    "\n",
    "data = [json.loads(line) for line in s3_client.get_object(Bucket='sportradar-wisd-data', Key=keyname)['Body'].read().decode('utf-8').strip().split('\\n')]\n",
    "\n",
    "d10 = pd.DataFrame(data)\n",
    "d10['nbaId'] = 42100305"
   ]
  },
  {
   "cell_type": "code",
   "execution_count": 10,
   "id": "c81dcb73",
   "metadata": {},
   "outputs": [],
   "source": [
    "keyname = \"games/0042100306/0042100306_tracking.jsonl\"\n",
    "\n",
    "data = [json.loads(line) for line in s3_client.get_object(Bucket='sportradar-wisd-data', Key=keyname)['Body'].read().decode('utf-8').strip().split('\\n')]\n",
    "\n",
    "d12 = pd.DataFrame(data)\n",
    "d12['nbaId'] = 42100306"
   ]
  },
  {
   "cell_type": "code",
   "execution_count": 11,
   "id": "904aaea9",
   "metadata": {},
   "outputs": [],
   "source": [
    "keyname = \"games/0042100307/0042100307_tracking.jsonl\"\n",
    "\n",
    "data = [json.loads(line) for line in s3_client.get_object(Bucket='sportradar-wisd-data', Key=keyname)['Body'].read().decode('utf-8').strip().split('\\n')]\n",
    "\n",
    "d14 = pd.DataFrame(data)\n",
    "d14['nbaId'] = 42100307"
   ]
  },
  {
   "cell_type": "code",
   "execution_count": 12,
   "id": "b50c7800",
   "metadata": {},
   "outputs": [],
   "source": [
    "keyname = \"games/0042100311/0042100311_tracking.jsonl\"\n",
    "\n",
    "data = [json.loads(line) for line in s3_client.get_object(Bucket='sportradar-wisd-data', Key=keyname)['Body'].read().decode('utf-8').strip().split('\\n')]\n",
    "\n",
    "d16 = pd.DataFrame(data)\n",
    "d16['nbaId'] = 42100311"
   ]
  },
  {
   "cell_type": "code",
   "execution_count": 13,
   "id": "0b7e9a76",
   "metadata": {},
   "outputs": [],
   "source": [
    "keyname = \"games/0042100312/0042100312_tracking.jsonl\"\n",
    "\n",
    "data = [json.loads(line) for line in s3_client.get_object(Bucket='sportradar-wisd-data', Key=keyname)['Body'].read().decode('utf-8').strip().split('\\n')]\n",
    "\n",
    "d18 = pd.DataFrame(data)\n",
    "d18['nbaId'] = 42100312"
   ]
  },
  {
   "cell_type": "code",
   "execution_count": 14,
   "id": "88c669d2",
   "metadata": {},
   "outputs": [],
   "source": [
    "keyname = \"games/0042100313/0042100313_tracking.jsonl\"\n",
    "\n",
    "data = [json.loads(line) for line in s3_client.get_object(Bucket='sportradar-wisd-data', Key=keyname)['Body'].read().decode('utf-8').strip().split('\\n')]\n",
    "\n",
    "d20 = pd.DataFrame(data)\n",
    "d20['nbaId'] = 42100313"
   ]
  },
  {
   "cell_type": "code",
   "execution_count": 15,
   "id": "2ea50109",
   "metadata": {},
   "outputs": [],
   "source": [
    "keyname = \"games/0042100314/0042100314_tracking.jsonl\"\n",
    "\n",
    "data = [json.loads(line) for line in s3_client.get_object(Bucket='sportradar-wisd-data', Key=keyname)['Body'].read().decode('utf-8').strip().split('\\n')]\n",
    "\n",
    "d22 = pd.DataFrame(data)\n",
    "d22['nbaId'] = 42100314"
   ]
  },
  {
   "cell_type": "code",
   "execution_count": 16,
   "id": "6ca370fc",
   "metadata": {},
   "outputs": [],
   "source": [
    "keyname = \"games/0042100315/0042100315_tracking.jsonl\"\n",
    "\n",
    "data = [json.loads(line) for line in s3_client.get_object(Bucket='sportradar-wisd-data', Key=keyname)['Body'].read().decode('utf-8').strip().split('\\n')]\n",
    "\n",
    "d24 = pd.DataFrame(data)\n",
    "d24['nbaId'] = 42100315"
   ]
  },
  {
   "cell_type": "code",
   "execution_count": 17,
   "id": "c3b8e7ce",
   "metadata": {},
   "outputs": [],
   "source": [
    "keyname = \"games/0042100401/0042100401_tracking.jsonl\"\n",
    "\n",
    "data = [json.loads(line) for line in s3_client.get_object(Bucket='sportradar-wisd-data', Key=keyname)['Body'].read().decode('utf-8').strip().split('\\n')]\n",
    "\n",
    "d26 = pd.DataFrame(data)\n",
    "d26['nbaId'] = 42100401"
   ]
  },
  {
   "cell_type": "code",
   "execution_count": 18,
   "id": "3e30cc48",
   "metadata": {},
   "outputs": [],
   "source": [
    "keyname = \"games/0042100402/0042100402_tracking.jsonl\"\n",
    "\n",
    "data = [json.loads(line) for line in s3_client.get_object(Bucket='sportradar-wisd-data', Key=keyname)['Body'].read().decode('utf-8').strip().split('\\n')]\n",
    "\n",
    "d28 = pd.DataFrame(data)\n",
    "d28['nbaId'] = 42100402"
   ]
  },
  {
   "cell_type": "code",
   "execution_count": 19,
   "id": "0d5433f8",
   "metadata": {},
   "outputs": [],
   "source": [
    "keyname = \"games/0042100403/0042100403_tracking.jsonl\"\n",
    "\n",
    "data = [json.loads(line) for line in s3_client.get_object(Bucket='sportradar-wisd-data', Key=keyname)['Body'].read().decode('utf-8').strip().split('\\n')]\n",
    "\n",
    "d30 = pd.DataFrame(data)\n",
    "d30['nbaId'] = 42100403"
   ]
  },
  {
   "cell_type": "code",
   "execution_count": 20,
   "id": "8ae904a9",
   "metadata": {},
   "outputs": [],
   "source": [
    "keyname = \"games/0042100404/0042100404_tracking.jsonl\"\n",
    "\n",
    "data = [json.loads(line) for line in s3_client.get_object(Bucket='sportradar-wisd-data', Key=keyname)['Body'].read().decode('utf-8').strip().split('\\n')]\n",
    "\n",
    "d32 = pd.DataFrame(data)\n",
    "d32['nbaId'] = 42100404"
   ]
  },
  {
   "cell_type": "code",
   "execution_count": 21,
   "id": "d2f89258",
   "metadata": {},
   "outputs": [],
   "source": [
    "keyname = \"games/0042100405/0042100405_tracking.jsonl\"\n",
    "\n",
    "data = [json.loads(line) for line in s3_client.get_object(Bucket='sportradar-wisd-data', Key=keyname)['Body'].read().decode('utf-8').strip().split('\\n')]\n",
    "\n",
    "d34 = pd.DataFrame(data)\n",
    "d34['nbaId'] = 42100405"
   ]
  },
  {
   "cell_type": "code",
   "execution_count": 22,
   "id": "c5132fba",
   "metadata": {},
   "outputs": [],
   "source": [
    "keyname = \"games/0042100406/0042100406_tracking.jsonl\"\n",
    "\n",
    "data = [json.loads(line) for line in s3_client.get_object(Bucket='sportradar-wisd-data', Key=keyname)['Body'].read().decode('utf-8').strip().split('\\n')]\n",
    "\n",
    "d36 = pd.DataFrame(data)\n",
    "d36['nbaId'] = 42100406"
   ]
  },
  {
   "cell_type": "code",
   "execution_count": 23,
   "id": "ed92e248",
   "metadata": {},
   "outputs": [],
   "source": [
    "tracking = pd.concat([d2, d4, d6, d8, d10, d12, d14, d16, d18, d20, d22, d24, d26, d28, d30, d32, d34, d36])"
   ]
  },
  {
   "cell_type": "code",
   "execution_count": 24,
   "id": "aaae08b1",
   "metadata": {},
   "outputs": [],
   "source": [
    "tracking[['homePlayer1', 'homePlayer2', 'homePlayer3', 'homePlayer4', 'homePlayer5']] = pd.DataFrame(tracking['homePlayers'].tolist())\n",
    "tracking[['awayPlayer1', 'awayPlayer2', 'awayPlayer3', 'awayPlayer4', 'awayPlayer5']] = pd.DataFrame(tracking['awayPlayers'].tolist())"
   ]
  },
  {
   "cell_type": "code",
   "execution_count": 25,
   "id": "ea58e3c1",
   "metadata": {},
   "outputs": [],
   "source": [
    "columns_to_drop = ['homePlayers','awayPlayers']\n",
    "tracking.drop(columns_to_drop, axis=1, inplace=True)"
   ]
  },
  {
   "cell_type": "code",
   "execution_count": 26,
   "id": "fbbc1bf6",
   "metadata": {
    "scrolled": true
   },
   "outputs": [
    {
     "data": {
      "text/html": [
       "<div>\n",
       "<style scoped>\n",
       "    .dataframe tbody tr th:only-of-type {\n",
       "        vertical-align: middle;\n",
       "    }\n",
       "\n",
       "    .dataframe tbody tr th {\n",
       "        vertical-align: top;\n",
       "    }\n",
       "\n",
       "    .dataframe thead th {\n",
       "        text-align: right;\n",
       "    }\n",
       "</style>\n",
       "<table border=\"1\" class=\"dataframe\">\n",
       "  <thead>\n",
       "    <tr style=\"text-align: right;\">\n",
       "      <th></th>\n",
       "      <th>frameIdx</th>\n",
       "      <th>ball</th>\n",
       "      <th>period</th>\n",
       "      <th>gameClock</th>\n",
       "      <th>gameClockStopped</th>\n",
       "      <th>shotClock</th>\n",
       "      <th>wallClock</th>\n",
       "      <th>nbaId</th>\n",
       "      <th>homePlayer1</th>\n",
       "      <th>homePlayer2</th>\n",
       "      <th>homePlayer3</th>\n",
       "      <th>homePlayer4</th>\n",
       "      <th>homePlayer5</th>\n",
       "      <th>awayPlayer1</th>\n",
       "      <th>awayPlayer2</th>\n",
       "      <th>awayPlayer3</th>\n",
       "      <th>awayPlayer4</th>\n",
       "      <th>awayPlayer5</th>\n",
       "    </tr>\n",
       "  </thead>\n",
       "  <tbody>\n",
       "    <tr>\n",
       "      <th>0</th>\n",
       "      <td>113040</td>\n",
       "      <td>[6.85, 9.02, 4.35]</td>\n",
       "      <td>1</td>\n",
       "      <td>720.0</td>\n",
       "      <td>True</td>\n",
       "      <td>24.0</td>\n",
       "      <td>1652834771259</td>\n",
       "      <td>42100301</td>\n",
       "      <td>{'xyz': [1.92, -1.08, 0], 'jersey': '13', 'pla...</td>\n",
       "      <td>{'xyz': [22.75, 0.42, 0], 'jersey': '17', 'pla...</td>\n",
       "      <td>{'xyz': [12.25, -3.08, 0], 'jersey': '2', 'pla...</td>\n",
       "      <td>{'xyz': [2.42, 6.08, 0], 'jersey': '22', 'play...</td>\n",
       "      <td>{'xyz': [7.25, -4.92, 0], 'jersey': '31', 'pla...</td>\n",
       "      <td>{'xyz': [-2.08, -9.08, 0], 'jersey': '0', 'pla...</td>\n",
       "      <td>{'xyz': [-11.08, 0.25, 0], 'jersey': '12', 'pl...</td>\n",
       "      <td>{'xyz': [-1.75, -0.92, 0], 'jersey': '44', 'pl...</td>\n",
       "      <td>{'xyz': [-1.42, 6.92, 0], 'jersey': '7', 'play...</td>\n",
       "      <td>{'xyz': [-19.92, -1.92, 0], 'jersey': '9', 'pl...</td>\n",
       "    </tr>\n",
       "    <tr>\n",
       "      <th>1</th>\n",
       "      <td>113041</td>\n",
       "      <td>[6.84, 8.99, 4.37]</td>\n",
       "      <td>1</td>\n",
       "      <td>720.0</td>\n",
       "      <td>True</td>\n",
       "      <td>24.0</td>\n",
       "      <td>1652834771299</td>\n",
       "      <td>42100301</td>\n",
       "      <td>{'xyz': [1.92, -1.08, 0], 'jersey': '13', 'pla...</td>\n",
       "      <td>{'xyz': [22.69, 0.42, 0], 'jersey': '17', 'pla...</td>\n",
       "      <td>{'xyz': [12.25, -3.08, 0], 'jersey': '2', 'pla...</td>\n",
       "      <td>{'xyz': [2.42, 6.14, 0], 'jersey': '22', 'play...</td>\n",
       "      <td>{'xyz': [7.11, -5.08, 0], 'jersey': '31', 'pla...</td>\n",
       "      <td>{'xyz': [-2.08, -9.08, 0], 'jersey': '0', 'pla...</td>\n",
       "      <td>{'xyz': [-11.15, 0.2, 0], 'jersey': '12', 'pla...</td>\n",
       "      <td>{'xyz': [-1.77, -0.84, 0], 'jersey': '44', 'pl...</td>\n",
       "      <td>{'xyz': [-1.42, 6.92, 0], 'jersey': '7', 'play...</td>\n",
       "      <td>{'xyz': [-19.84, -1.85, 0], 'jersey': '9', 'pl...</td>\n",
       "    </tr>\n",
       "    <tr>\n",
       "      <th>2</th>\n",
       "      <td>113042</td>\n",
       "      <td>[6.83, 8.93, 4.36]</td>\n",
       "      <td>1</td>\n",
       "      <td>720.0</td>\n",
       "      <td>True</td>\n",
       "      <td>24.0</td>\n",
       "      <td>1652834771339</td>\n",
       "      <td>42100301</td>\n",
       "      <td>{'xyz': [1.92, -1.11, 0], 'jersey': '13', 'pla...</td>\n",
       "      <td>{'xyz': [22.59, 0.41, 0], 'jersey': '17', 'pla...</td>\n",
       "      <td>{'xyz': [12.25, -3.08, 0], 'jersey': '2', 'pla...</td>\n",
       "      <td>{'xyz': [2.42, 6.2, 0], 'jersey': '22', 'playe...</td>\n",
       "      <td>{'xyz': [7, -5.25, 0], 'jersey': '31', 'player...</td>\n",
       "      <td>{'xyz': [-2.08, -9.06, 0], 'jersey': '0', 'pla...</td>\n",
       "      <td>{'xyz': [-11.21, 0.18, 0], 'jersey': '12', 'pl...</td>\n",
       "      <td>{'xyz': [-1.81, -0.78, 0], 'jersey': '44', 'pl...</td>\n",
       "      <td>{'xyz': [-1.42, 6.92, 0], 'jersey': '7', 'play...</td>\n",
       "      <td>{'xyz': [-19.78, -1.78, 0], 'jersey': '9', 'pl...</td>\n",
       "    </tr>\n",
       "    <tr>\n",
       "      <th>3</th>\n",
       "      <td>113043</td>\n",
       "      <td>[6.81, 8.86, 4.36]</td>\n",
       "      <td>1</td>\n",
       "      <td>720.0</td>\n",
       "      <td>True</td>\n",
       "      <td>24.0</td>\n",
       "      <td>1652834771379</td>\n",
       "      <td>42100301</td>\n",
       "      <td>{'xyz': [1.92, -1.13, 0], 'jersey': '13', 'pla...</td>\n",
       "      <td>{'xyz': [22.47, 0.4, 0], 'jersey': '17', 'play...</td>\n",
       "      <td>{'xyz': [12.27, -3.08, 0], 'jersey': '2', 'pla...</td>\n",
       "      <td>{'xyz': [2.42, 6.26, 0], 'jersey': '22', 'play...</td>\n",
       "      <td>{'xyz': [6.91, -5.42, 0], 'jersey': '31', 'pla...</td>\n",
       "      <td>{'xyz': [-2.09, -9.04, 0], 'jersey': '0', 'pla...</td>\n",
       "      <td>{'xyz': [-11.28, 0.18, 0], 'jersey': '12', 'pl...</td>\n",
       "      <td>{'xyz': [-1.83, -0.74, 0], 'jersey': '44', 'pl...</td>\n",
       "      <td>{'xyz': [-1.42, 6.92, 0], 'jersey': '7', 'play...</td>\n",
       "      <td>{'xyz': [-19.73, -1.71, 0], 'jersey': '9', 'pl...</td>\n",
       "    </tr>\n",
       "    <tr>\n",
       "      <th>4</th>\n",
       "      <td>113044</td>\n",
       "      <td>[6.79, 8.79, 4.36]</td>\n",
       "      <td>1</td>\n",
       "      <td>720.0</td>\n",
       "      <td>True</td>\n",
       "      <td>24.0</td>\n",
       "      <td>1652834771419</td>\n",
       "      <td>42100301</td>\n",
       "      <td>{'xyz': [1.92, -1.16, 0], 'jersey': '13', 'pla...</td>\n",
       "      <td>{'xyz': [22.34, 0.38, 0], 'jersey': '17', 'pla...</td>\n",
       "      <td>{'xyz': [12.29, -3.08, 0], 'jersey': '2', 'pla...</td>\n",
       "      <td>{'xyz': [2.42, 6.33, 0], 'jersey': '22', 'play...</td>\n",
       "      <td>{'xyz': [6.82, -5.58, 0], 'jersey': '31', 'pla...</td>\n",
       "      <td>{'xyz': [-2.1, -9.01, 0], 'jersey': '0', 'play...</td>\n",
       "      <td>{'xyz': [-11.34, 0.19, 0], 'jersey': '12', 'pl...</td>\n",
       "      <td>{'xyz': [-1.85, -0.7, 0], 'jersey': '44', 'pla...</td>\n",
       "      <td>{'xyz': [-1.42, 6.92, 0], 'jersey': '7', 'play...</td>\n",
       "      <td>{'xyz': [-19.68, -1.64, 0], 'jersey': '9', 'pl...</td>\n",
       "    </tr>\n",
       "  </tbody>\n",
       "</table>\n",
       "</div>"
      ],
      "text/plain": [
       "   frameIdx                ball  period  gameClock  gameClockStopped  \\\n",
       "0    113040  [6.85, 9.02, 4.35]       1      720.0              True   \n",
       "1    113041  [6.84, 8.99, 4.37]       1      720.0              True   \n",
       "2    113042  [6.83, 8.93, 4.36]       1      720.0              True   \n",
       "3    113043  [6.81, 8.86, 4.36]       1      720.0              True   \n",
       "4    113044  [6.79, 8.79, 4.36]       1      720.0              True   \n",
       "\n",
       "   shotClock      wallClock     nbaId  \\\n",
       "0       24.0  1652834771259  42100301   \n",
       "1       24.0  1652834771299  42100301   \n",
       "2       24.0  1652834771339  42100301   \n",
       "3       24.0  1652834771379  42100301   \n",
       "4       24.0  1652834771419  42100301   \n",
       "\n",
       "                                         homePlayer1  \\\n",
       "0  {'xyz': [1.92, -1.08, 0], 'jersey': '13', 'pla...   \n",
       "1  {'xyz': [1.92, -1.08, 0], 'jersey': '13', 'pla...   \n",
       "2  {'xyz': [1.92, -1.11, 0], 'jersey': '13', 'pla...   \n",
       "3  {'xyz': [1.92, -1.13, 0], 'jersey': '13', 'pla...   \n",
       "4  {'xyz': [1.92, -1.16, 0], 'jersey': '13', 'pla...   \n",
       "\n",
       "                                         homePlayer2  \\\n",
       "0  {'xyz': [22.75, 0.42, 0], 'jersey': '17', 'pla...   \n",
       "1  {'xyz': [22.69, 0.42, 0], 'jersey': '17', 'pla...   \n",
       "2  {'xyz': [22.59, 0.41, 0], 'jersey': '17', 'pla...   \n",
       "3  {'xyz': [22.47, 0.4, 0], 'jersey': '17', 'play...   \n",
       "4  {'xyz': [22.34, 0.38, 0], 'jersey': '17', 'pla...   \n",
       "\n",
       "                                         homePlayer3  \\\n",
       "0  {'xyz': [12.25, -3.08, 0], 'jersey': '2', 'pla...   \n",
       "1  {'xyz': [12.25, -3.08, 0], 'jersey': '2', 'pla...   \n",
       "2  {'xyz': [12.25, -3.08, 0], 'jersey': '2', 'pla...   \n",
       "3  {'xyz': [12.27, -3.08, 0], 'jersey': '2', 'pla...   \n",
       "4  {'xyz': [12.29, -3.08, 0], 'jersey': '2', 'pla...   \n",
       "\n",
       "                                         homePlayer4  \\\n",
       "0  {'xyz': [2.42, 6.08, 0], 'jersey': '22', 'play...   \n",
       "1  {'xyz': [2.42, 6.14, 0], 'jersey': '22', 'play...   \n",
       "2  {'xyz': [2.42, 6.2, 0], 'jersey': '22', 'playe...   \n",
       "3  {'xyz': [2.42, 6.26, 0], 'jersey': '22', 'play...   \n",
       "4  {'xyz': [2.42, 6.33, 0], 'jersey': '22', 'play...   \n",
       "\n",
       "                                         homePlayer5  \\\n",
       "0  {'xyz': [7.25, -4.92, 0], 'jersey': '31', 'pla...   \n",
       "1  {'xyz': [7.11, -5.08, 0], 'jersey': '31', 'pla...   \n",
       "2  {'xyz': [7, -5.25, 0], 'jersey': '31', 'player...   \n",
       "3  {'xyz': [6.91, -5.42, 0], 'jersey': '31', 'pla...   \n",
       "4  {'xyz': [6.82, -5.58, 0], 'jersey': '31', 'pla...   \n",
       "\n",
       "                                         awayPlayer1  \\\n",
       "0  {'xyz': [-2.08, -9.08, 0], 'jersey': '0', 'pla...   \n",
       "1  {'xyz': [-2.08, -9.08, 0], 'jersey': '0', 'pla...   \n",
       "2  {'xyz': [-2.08, -9.06, 0], 'jersey': '0', 'pla...   \n",
       "3  {'xyz': [-2.09, -9.04, 0], 'jersey': '0', 'pla...   \n",
       "4  {'xyz': [-2.1, -9.01, 0], 'jersey': '0', 'play...   \n",
       "\n",
       "                                         awayPlayer2  \\\n",
       "0  {'xyz': [-11.08, 0.25, 0], 'jersey': '12', 'pl...   \n",
       "1  {'xyz': [-11.15, 0.2, 0], 'jersey': '12', 'pla...   \n",
       "2  {'xyz': [-11.21, 0.18, 0], 'jersey': '12', 'pl...   \n",
       "3  {'xyz': [-11.28, 0.18, 0], 'jersey': '12', 'pl...   \n",
       "4  {'xyz': [-11.34, 0.19, 0], 'jersey': '12', 'pl...   \n",
       "\n",
       "                                         awayPlayer3  \\\n",
       "0  {'xyz': [-1.75, -0.92, 0], 'jersey': '44', 'pl...   \n",
       "1  {'xyz': [-1.77, -0.84, 0], 'jersey': '44', 'pl...   \n",
       "2  {'xyz': [-1.81, -0.78, 0], 'jersey': '44', 'pl...   \n",
       "3  {'xyz': [-1.83, -0.74, 0], 'jersey': '44', 'pl...   \n",
       "4  {'xyz': [-1.85, -0.7, 0], 'jersey': '44', 'pla...   \n",
       "\n",
       "                                         awayPlayer4  \\\n",
       "0  {'xyz': [-1.42, 6.92, 0], 'jersey': '7', 'play...   \n",
       "1  {'xyz': [-1.42, 6.92, 0], 'jersey': '7', 'play...   \n",
       "2  {'xyz': [-1.42, 6.92, 0], 'jersey': '7', 'play...   \n",
       "3  {'xyz': [-1.42, 6.92, 0], 'jersey': '7', 'play...   \n",
       "4  {'xyz': [-1.42, 6.92, 0], 'jersey': '7', 'play...   \n",
       "\n",
       "                                         awayPlayer5  \n",
       "0  {'xyz': [-19.92, -1.92, 0], 'jersey': '9', 'pl...  \n",
       "1  {'xyz': [-19.84, -1.85, 0], 'jersey': '9', 'pl...  \n",
       "2  {'xyz': [-19.78, -1.78, 0], 'jersey': '9', 'pl...  \n",
       "3  {'xyz': [-19.73, -1.71, 0], 'jersey': '9', 'pl...  \n",
       "4  {'xyz': [-19.68, -1.64, 0], 'jersey': '9', 'pl...  "
      ]
     },
     "execution_count": 26,
     "metadata": {},
     "output_type": "execute_result"
    }
   ],
   "source": [
    "tracking.head()"
   ]
  },
  {
   "cell_type": "code",
   "execution_count": 27,
   "id": "4c4c6b15",
   "metadata": {},
   "outputs": [],
   "source": [
    "tracking[['xyz1', 'jersey1', 'playerID1']] = pd.DataFrame(tracking['homePlayer1'].tolist())\n",
    "tracking[['xyz2', 'jersey2', 'playerID2']] = pd.DataFrame(tracking['homePlayer2'].tolist())\n",
    "tracking[['xyz3', 'jersey3', 'playerID3']] = pd.DataFrame(tracking['homePlayer3'].tolist())\n",
    "tracking[['xyz4', 'jersey4', 'playerID4']] = pd.DataFrame(tracking['homePlayer4'].tolist())\n",
    "tracking[['xyz5', 'jersey5', 'playerID5']] = pd.DataFrame(tracking['homePlayer5'].tolist())\n",
    "\n",
    "tracking[['away_xyz1', 'away_jersey1', 'away_playerID1']] = pd.DataFrame(tracking['awayPlayer1'].tolist())\n",
    "tracking[['away_xyz2', 'away_jersey2', 'away_playerID2']] = pd.DataFrame(tracking['awayPlayer2'].tolist())\n",
    "tracking[['away_xyz3', 'away_jersey3', 'away_playerID3']] = pd.DataFrame(tracking['awayPlayer3'].tolist())\n",
    "tracking[['away_xyz4', 'away_jersey4', 'away_playerID4']] = pd.DataFrame(tracking['awayPlayer4'].tolist())\n",
    "tracking[['away_xyz5', 'away_jersey5', 'away_playerID5']] = pd.DataFrame(tracking['awayPlayer5'].tolist())"
   ]
  },
  {
   "cell_type": "code",
   "execution_count": 28,
   "id": "8587e1c0",
   "metadata": {},
   "outputs": [
    {
     "data": {
      "text/plain": [
       "Index(['frameIdx', 'ball', 'period', 'gameClock', 'gameClockStopped',\n",
       "       'shotClock', 'wallClock', 'nbaId', 'homePlayer1', 'homePlayer2',\n",
       "       'homePlayer3', 'homePlayer4', 'homePlayer5', 'awayPlayer1',\n",
       "       'awayPlayer2', 'awayPlayer3', 'awayPlayer4', 'awayPlayer5', 'xyz1',\n",
       "       'jersey1', 'playerID1', 'xyz2', 'jersey2', 'playerID2', 'xyz3',\n",
       "       'jersey3', 'playerID3', 'xyz4', 'jersey4', 'playerID4', 'xyz5',\n",
       "       'jersey5', 'playerID5', 'away_xyz1', 'away_jersey1', 'away_playerID1',\n",
       "       'away_xyz2', 'away_jersey2', 'away_playerID2', 'away_xyz3',\n",
       "       'away_jersey3', 'away_playerID3', 'away_xyz4', 'away_jersey4',\n",
       "       'away_playerID4', 'away_xyz5', 'away_jersey5', 'away_playerID5'],\n",
       "      dtype='object')"
      ]
     },
     "execution_count": 28,
     "metadata": {},
     "output_type": "execute_result"
    }
   ],
   "source": [
    "tracking.columns"
   ]
  },
  {
   "cell_type": "code",
   "execution_count": 29,
   "id": "93f644c8",
   "metadata": {},
   "outputs": [],
   "source": [
    "columns_to_drop = ['homePlayer1', 'homePlayer2',\n",
    "       'homePlayer3', 'homePlayer4', 'homePlayer5', 'awayPlayer1',\n",
    "       'awayPlayer2', 'awayPlayer3', 'awayPlayer4', 'awayPlayer5']\n",
    "tracking.drop(columns_to_drop, axis=1, inplace=True)"
   ]
  },
  {
   "cell_type": "code",
   "execution_count": 30,
   "id": "7c39ced6",
   "metadata": {},
   "outputs": [],
   "source": [
    "tracking = tracking.rename(columns={'xyz1': 'home_xyz1', \n",
    "                                    'jersey1': 'home_jersey1',\n",
    "                                    'playerID1': 'homePlayer1',\n",
    "                                    'xyz2': 'home_xyz2', \n",
    "                                    'jersey2': 'home_jersey2',\n",
    "                                    'playerID2': 'homePlayer2',\n",
    "                                    'xyz3': 'home_xyz3', \n",
    "                                    'jersey3': 'home_jersey3',\n",
    "                                    'playerID3': 'homePlayer3',\n",
    "                                    'xyz4': 'home_xyz4', \n",
    "                                    'jersey4': 'home_jersey4',\n",
    "                                    'playerID4': 'homePlayer4',\n",
    "                                    'xyz5': 'home_xyz5', \n",
    "                                    'jersey5': 'home_jersey5',\n",
    "                                    'playerID5': 'homePlayer5',\n",
    "                                    'away_playerID1': 'awayPlayer1',\n",
    "                                    'away_playerID2': 'awayPlayer2',\n",
    "                                    'away_playerID3': 'awayPlayer3',\n",
    "                                    'away_playerID4': 'awayPlayer4',\n",
    "                                    'away_playerID5': 'awayPlayer5',\n",
    "                                    })"
   ]
  },
  {
   "cell_type": "code",
   "execution_count": 31,
   "id": "a7bdfe8c",
   "metadata": {},
   "outputs": [],
   "source": [
    "# Saving tacking table (optional)\n",
    "tracking.to_csv(r\"tracking.csv\", index=False)"
   ]
  },
  {
   "cell_type": "markdown",
   "id": "05906bf8",
   "metadata": {},
   "source": [
    "## Games"
   ]
  },
  {
   "cell_type": "code",
   "execution_count": null,
   "id": "5a9755f9",
   "metadata": {},
   "outputs": [],
   "source": [
    "keyname = \"metadata/games.json\"\n",
    "games = [json.loads(line) for line in s3_client.get_object(Bucket='sportradar-wisd-data', Key=keyname)['Body'].read().decode('utf-8').strip().split('\\n')]"
   ]
  },
  {
   "cell_type": "code",
   "execution_count": null,
   "id": "97c1b7a3",
   "metadata": {},
   "outputs": [],
   "source": [
    "games = pd.DataFrame(games[0]['games'])"
   ]
  },
  {
   "cell_type": "code",
   "execution_count": null,
   "id": "5bace543",
   "metadata": {},
   "outputs": [],
   "source": [
    "games.head()"
   ]
  },
  {
   "cell_type": "code",
   "execution_count": null,
   "id": "4eb0ff13",
   "metadata": {},
   "outputs": [],
   "source": [
    "# Filtering the games we are evaluating in the analysis\n",
    "\n",
    "games2 = games[(games['nbaId'] == '0042100301') |\n",
    "               (games['nbaId'] == '0042100302') |\n",
    "               (games['nbaId'] == '0042100303') |\n",
    "               (games['nbaId'] == '0042100304') |\n",
    "               (games['nbaId'] == '0042100305') |\n",
    "               (games['nbaId'] == '0042100306') |\n",
    "               (games['nbaId'] == '0042100307') |\n",
    "               (games['nbaId'] == '0042100311') |\n",
    "               (games['nbaId'] == '0042100312') |\n",
    "               (games['nbaId'] == '0042100313') |\n",
    "               (games['nbaId'] == '0042100314') |\n",
    "               (games['nbaId'] == '0042100315') |\n",
    "               (games['nbaId'] == '0042100401') |\n",
    "               (games['nbaId'] == '0042100402') |\n",
    "               (games['nbaId'] == '0042100403') |\n",
    "               (games['nbaId'] == '0042100404') |\n",
    "               (games['nbaId'] == '0042100405') |\n",
    "               (games['nbaId'] == '0042100406')]"
   ]
  },
  {
   "cell_type": "code",
   "execution_count": null,
   "id": "9fc07d0e",
   "metadata": {},
   "outputs": [],
   "source": [
    "# Saving games table (optional)\n",
    "#games2.to_csv(r\"games2.csv\", index=False)"
   ]
  },
  {
   "cell_type": "markdown",
   "id": "d99a4b17",
   "metadata": {},
   "source": [
    "## Players"
   ]
  },
  {
   "cell_type": "code",
   "execution_count": null,
   "id": "670b327e",
   "metadata": {},
   "outputs": [],
   "source": [
    "keyname = \"metadata/players.json\"\n",
    "players = [json.loads(line) for line in s3_client.get_object(Bucket='sportradar-wisd-data', Key=keyname)['Body'].read().decode('utf-8').strip().split('\\n')]"
   ]
  },
  {
   "cell_type": "code",
   "execution_count": null,
   "id": "e752f3ef",
   "metadata": {},
   "outputs": [],
   "source": [
    "players[0]['players']"
   ]
  },
  {
   "cell_type": "code",
   "execution_count": null,
   "id": "f9c0e458",
   "metadata": {},
   "outputs": [],
   "source": [
    "players = pd.DataFrame(players[0]['players'])"
   ]
  },
  {
   "cell_type": "code",
   "execution_count": null,
   "id": "c1855ea3",
   "metadata": {},
   "outputs": [],
   "source": [
    "players.head()"
   ]
  },
  {
   "cell_type": "code",
   "execution_count": null,
   "id": "9cee9e6f",
   "metadata": {},
   "outputs": [],
   "source": [
    "# Saving players table (optional)\n",
    "#players.to_csv(r\"players.csv\", index=False)"
   ]
  },
  {
   "cell_type": "markdown",
   "id": "72870094",
   "metadata": {},
   "source": [
    "## Teams"
   ]
  },
  {
   "cell_type": "code",
   "execution_count": null,
   "id": "1a7dfb12",
   "metadata": {},
   "outputs": [],
   "source": [
    "keyname = \"metadata/teams.json\"\n",
    "teams = [json.loads(line) for line in s3_client.get_object(Bucket='sportradar-wisd-data', Key=keyname)['Body'].read().decode('utf-8').strip().split('\\n')]"
   ]
  },
  {
   "cell_type": "code",
   "execution_count": null,
   "id": "4e1e4cf4",
   "metadata": {},
   "outputs": [],
   "source": [
    "teams[0]['teams']"
   ]
  },
  {
   "cell_type": "code",
   "execution_count": null,
   "id": "30567625",
   "metadata": {},
   "outputs": [],
   "source": [
    "teams = pd.DataFrame(teams[0]['teams'])"
   ]
  },
  {
   "cell_type": "code",
   "execution_count": null,
   "id": "b192e992",
   "metadata": {},
   "outputs": [],
   "source": [
    "teams.head()"
   ]
  },
  {
   "cell_type": "code",
   "execution_count": null,
   "id": "f55115fc",
   "metadata": {},
   "outputs": [],
   "source": [
    "# Saving teams table (optional)\n",
    "#teams.to_csv(r\"teams.csv\", index=False)"
   ]
  },
  {
   "cell_type": "markdown",
   "id": "4e1c10b5",
   "metadata": {},
   "source": [
    "# Cleaning tables"
   ]
  },
  {
   "cell_type": "markdown",
   "id": "680b1cb6",
   "metadata": {},
   "source": [
    "## Tracking"
   ]
  },
  {
   "cell_type": "code",
   "execution_count": 3,
   "id": "1d051a2d",
   "metadata": {},
   "outputs": [],
   "source": [
    "# Opening saved table\n",
    "tracking = pd.read_csv(r\"tracking.csv\")"
   ]
  },
  {
   "cell_type": "code",
   "execution_count": 4,
   "id": "d0fcb63a",
   "metadata": {
    "scrolled": true
   },
   "outputs": [
    {
     "name": "stdout",
     "output_type": "stream",
     "text": [
      "<class 'pandas.core.frame.DataFrame'>\n",
      "RangeIndex: 1678320 entries, 0 to 1678319\n",
      "Data columns (total 38 columns):\n",
      " #   Column            Non-Null Count    Dtype  \n",
      "---  ------            --------------    -----  \n",
      " 0   frameIdx          1678320 non-null  int64  \n",
      " 1   ball              1678320 non-null  object \n",
      " 2   period            1678320 non-null  int64  \n",
      " 3   gameClock         1678320 non-null  float64\n",
      " 4   gameClockStopped  1678320 non-null  bool   \n",
      " 5   shotClock         1678320 non-null  float64\n",
      " 6   wallClock         1678320 non-null  int64  \n",
      " 7   nbaId             1678320 non-null  int64  \n",
      " 8   home_xyz1         1678320 non-null  object \n",
      " 9   home_jersey1      1678320 non-null  int64  \n",
      " 10  homePlayer1       1678320 non-null  object \n",
      " 11  home_xyz2         1678320 non-null  object \n",
      " 12  home_jersey2      1678320 non-null  int64  \n",
      " 13  homePlayer2       1678320 non-null  object \n",
      " 14  home_xyz3         1678320 non-null  object \n",
      " 15  home_jersey3      1678320 non-null  int64  \n",
      " 16  homePlayer3       1678320 non-null  object \n",
      " 17  home_xyz4         1678320 non-null  object \n",
      " 18  home_jersey4      1678320 non-null  int64  \n",
      " 19  homePlayer4       1678320 non-null  object \n",
      " 20  home_xyz5         1678320 non-null  object \n",
      " 21  home_jersey5      1678320 non-null  int64  \n",
      " 22  homePlayer5       1678320 non-null  object \n",
      " 23  away_xyz1         1678320 non-null  object \n",
      " 24  away_jersey1      1678320 non-null  int64  \n",
      " 25  awayPlayer1       1678320 non-null  object \n",
      " 26  away_xyz2         1678320 non-null  object \n",
      " 27  away_jersey2      1678320 non-null  int64  \n",
      " 28  awayPlayer2       1678320 non-null  object \n",
      " 29  away_xyz3         1678320 non-null  object \n",
      " 30  away_jersey3      1678320 non-null  int64  \n",
      " 31  awayPlayer3       1678320 non-null  object \n",
      " 32  away_xyz4         1678320 non-null  object \n",
      " 33  away_jersey4      1678320 non-null  int64  \n",
      " 34  awayPlayer4       1678320 non-null  object \n",
      " 35  away_xyz5         1678320 non-null  object \n",
      " 36  away_jersey5      1678320 non-null  int64  \n",
      " 37  awayPlayer5       1678320 non-null  object \n",
      "dtypes: bool(1), float64(2), int64(14), object(21)\n",
      "memory usage: 475.4+ MB\n"
     ]
    }
   ],
   "source": [
    "tracking.info()"
   ]
  },
  {
   "cell_type": "code",
   "execution_count": 5,
   "id": "e47f453d",
   "metadata": {},
   "outputs": [],
   "source": [
    "tracking[['home_x1', 'home_y1','home_z1']] = tracking['home_xyz1'].str.split(', ', expand=True)\n",
    "tracking[['home_x2', 'home_y2','home_z2']] = tracking['home_xyz2'].str.split(', ', expand=True)\n",
    "tracking[['home_x3', 'home_y3','home_z3']] = tracking['home_xyz3'].str.split(', ', expand=True)\n",
    "tracking[['home_x4', 'home_y4','home_z4']] = tracking['home_xyz4'].str.split(', ', expand=True)\n",
    "tracking[['home_x5', 'home_y5','home_z5']] = tracking['home_xyz5'].str.split(', ', expand=True)\n",
    "\n",
    "tracking[['away_x1', 'away_y1','away_z1']] = tracking['away_xyz1'].str.split(', ', expand=True)\n",
    "tracking[['away_x2', 'away_y2','away_z2']] = tracking['away_xyz2'].str.split(', ', expand=True)\n",
    "tracking[['away_x3', 'away_y3','away_z3']] = tracking['away_xyz3'].str.split(', ', expand=True)\n",
    "tracking[['away_x4', 'away_y4','away_z4']] = tracking['away_xyz4'].str.split(', ', expand=True)\n",
    "tracking[['away_x5', 'away_y5','away_z5']] = tracking['away_xyz5'].str.split(', ', expand=True)"
   ]
  },
  {
   "cell_type": "code",
   "execution_count": 6,
   "id": "fd4d3217",
   "metadata": {},
   "outputs": [
    {
     "data": {
      "text/html": [
       "<div>\n",
       "<style scoped>\n",
       "    .dataframe tbody tr th:only-of-type {\n",
       "        vertical-align: middle;\n",
       "    }\n",
       "\n",
       "    .dataframe tbody tr th {\n",
       "        vertical-align: top;\n",
       "    }\n",
       "\n",
       "    .dataframe thead th {\n",
       "        text-align: right;\n",
       "    }\n",
       "</style>\n",
       "<table border=\"1\" class=\"dataframe\">\n",
       "  <thead>\n",
       "    <tr style=\"text-align: right;\">\n",
       "      <th></th>\n",
       "      <th>frameIdx</th>\n",
       "      <th>ball</th>\n",
       "      <th>period</th>\n",
       "      <th>gameClock</th>\n",
       "      <th>gameClockStopped</th>\n",
       "      <th>shotClock</th>\n",
       "      <th>wallClock</th>\n",
       "      <th>nbaId</th>\n",
       "      <th>home_xyz1</th>\n",
       "      <th>home_jersey1</th>\n",
       "      <th>...</th>\n",
       "      <th>away_z2</th>\n",
       "      <th>away_x3</th>\n",
       "      <th>away_y3</th>\n",
       "      <th>away_z3</th>\n",
       "      <th>away_x4</th>\n",
       "      <th>away_y4</th>\n",
       "      <th>away_z4</th>\n",
       "      <th>away_x5</th>\n",
       "      <th>away_y5</th>\n",
       "      <th>away_z5</th>\n",
       "    </tr>\n",
       "  </thead>\n",
       "  <tbody>\n",
       "    <tr>\n",
       "      <th>0</th>\n",
       "      <td>113040</td>\n",
       "      <td>[6.85, 9.02, 4.35]</td>\n",
       "      <td>1</td>\n",
       "      <td>720.0</td>\n",
       "      <td>True</td>\n",
       "      <td>24.0</td>\n",
       "      <td>1652834771259</td>\n",
       "      <td>42100301</td>\n",
       "      <td>[1.92, -1.08, 0]</td>\n",
       "      <td>13</td>\n",
       "      <td>...</td>\n",
       "      <td>0]</td>\n",
       "      <td>[-1.75</td>\n",
       "      <td>-0.92</td>\n",
       "      <td>0]</td>\n",
       "      <td>[-1.42</td>\n",
       "      <td>6.92</td>\n",
       "      <td>0]</td>\n",
       "      <td>[-19.92</td>\n",
       "      <td>-1.92</td>\n",
       "      <td>0]</td>\n",
       "    </tr>\n",
       "    <tr>\n",
       "      <th>1</th>\n",
       "      <td>113041</td>\n",
       "      <td>[6.84, 8.99, 4.37]</td>\n",
       "      <td>1</td>\n",
       "      <td>720.0</td>\n",
       "      <td>True</td>\n",
       "      <td>24.0</td>\n",
       "      <td>1652834771299</td>\n",
       "      <td>42100301</td>\n",
       "      <td>[1.92, -1.08, 0]</td>\n",
       "      <td>13</td>\n",
       "      <td>...</td>\n",
       "      <td>0]</td>\n",
       "      <td>[-1.77</td>\n",
       "      <td>-0.84</td>\n",
       "      <td>0]</td>\n",
       "      <td>[-1.42</td>\n",
       "      <td>6.92</td>\n",
       "      <td>0]</td>\n",
       "      <td>[-19.84</td>\n",
       "      <td>-1.85</td>\n",
       "      <td>0]</td>\n",
       "    </tr>\n",
       "    <tr>\n",
       "      <th>2</th>\n",
       "      <td>113042</td>\n",
       "      <td>[6.83, 8.93, 4.36]</td>\n",
       "      <td>1</td>\n",
       "      <td>720.0</td>\n",
       "      <td>True</td>\n",
       "      <td>24.0</td>\n",
       "      <td>1652834771339</td>\n",
       "      <td>42100301</td>\n",
       "      <td>[1.92, -1.11, 0]</td>\n",
       "      <td>13</td>\n",
       "      <td>...</td>\n",
       "      <td>0]</td>\n",
       "      <td>[-1.81</td>\n",
       "      <td>-0.78</td>\n",
       "      <td>0]</td>\n",
       "      <td>[-1.42</td>\n",
       "      <td>6.92</td>\n",
       "      <td>0]</td>\n",
       "      <td>[-19.78</td>\n",
       "      <td>-1.78</td>\n",
       "      <td>0]</td>\n",
       "    </tr>\n",
       "    <tr>\n",
       "      <th>3</th>\n",
       "      <td>113043</td>\n",
       "      <td>[6.81, 8.86, 4.36]</td>\n",
       "      <td>1</td>\n",
       "      <td>720.0</td>\n",
       "      <td>True</td>\n",
       "      <td>24.0</td>\n",
       "      <td>1652834771379</td>\n",
       "      <td>42100301</td>\n",
       "      <td>[1.92, -1.13, 0]</td>\n",
       "      <td>13</td>\n",
       "      <td>...</td>\n",
       "      <td>0]</td>\n",
       "      <td>[-1.83</td>\n",
       "      <td>-0.74</td>\n",
       "      <td>0]</td>\n",
       "      <td>[-1.42</td>\n",
       "      <td>6.92</td>\n",
       "      <td>0]</td>\n",
       "      <td>[-19.73</td>\n",
       "      <td>-1.71</td>\n",
       "      <td>0]</td>\n",
       "    </tr>\n",
       "    <tr>\n",
       "      <th>4</th>\n",
       "      <td>113044</td>\n",
       "      <td>[6.79, 8.79, 4.36]</td>\n",
       "      <td>1</td>\n",
       "      <td>720.0</td>\n",
       "      <td>True</td>\n",
       "      <td>24.0</td>\n",
       "      <td>1652834771419</td>\n",
       "      <td>42100301</td>\n",
       "      <td>[1.92, -1.16, 0]</td>\n",
       "      <td>13</td>\n",
       "      <td>...</td>\n",
       "      <td>0]</td>\n",
       "      <td>[-1.85</td>\n",
       "      <td>-0.7</td>\n",
       "      <td>0]</td>\n",
       "      <td>[-1.42</td>\n",
       "      <td>6.92</td>\n",
       "      <td>0]</td>\n",
       "      <td>[-19.68</td>\n",
       "      <td>-1.64</td>\n",
       "      <td>0]</td>\n",
       "    </tr>\n",
       "  </tbody>\n",
       "</table>\n",
       "<p>5 rows × 68 columns</p>\n",
       "</div>"
      ],
      "text/plain": [
       "   frameIdx                ball  period  gameClock  gameClockStopped  \\\n",
       "0    113040  [6.85, 9.02, 4.35]       1      720.0              True   \n",
       "1    113041  [6.84, 8.99, 4.37]       1      720.0              True   \n",
       "2    113042  [6.83, 8.93, 4.36]       1      720.0              True   \n",
       "3    113043  [6.81, 8.86, 4.36]       1      720.0              True   \n",
       "4    113044  [6.79, 8.79, 4.36]       1      720.0              True   \n",
       "\n",
       "   shotClock      wallClock     nbaId         home_xyz1  home_jersey1  ...  \\\n",
       "0       24.0  1652834771259  42100301  [1.92, -1.08, 0]            13  ...   \n",
       "1       24.0  1652834771299  42100301  [1.92, -1.08, 0]            13  ...   \n",
       "2       24.0  1652834771339  42100301  [1.92, -1.11, 0]            13  ...   \n",
       "3       24.0  1652834771379  42100301  [1.92, -1.13, 0]            13  ...   \n",
       "4       24.0  1652834771419  42100301  [1.92, -1.16, 0]            13  ...   \n",
       "\n",
       "  away_z2 away_x3  away_y3 away_z3 away_x4  away_y4 away_z4  away_x5  away_y5  \\\n",
       "0      0]  [-1.75    -0.92      0]  [-1.42     6.92      0]  [-19.92    -1.92   \n",
       "1      0]  [-1.77    -0.84      0]  [-1.42     6.92      0]  [-19.84    -1.85   \n",
       "2      0]  [-1.81    -0.78      0]  [-1.42     6.92      0]  [-19.78    -1.78   \n",
       "3      0]  [-1.83    -0.74      0]  [-1.42     6.92      0]  [-19.73    -1.71   \n",
       "4      0]  [-1.85     -0.7      0]  [-1.42     6.92      0]  [-19.68    -1.64   \n",
       "\n",
       "  away_z5  \n",
       "0      0]  \n",
       "1      0]  \n",
       "2      0]  \n",
       "3      0]  \n",
       "4      0]  \n",
       "\n",
       "[5 rows x 68 columns]"
      ]
     },
     "execution_count": 6,
     "metadata": {},
     "output_type": "execute_result"
    }
   ],
   "source": [
    "tracking.head()"
   ]
  },
  {
   "cell_type": "code",
   "execution_count": 7,
   "id": "ec429236",
   "metadata": {},
   "outputs": [],
   "source": [
    "tracking['home_x1'] = tracking['home_x1'].str.split('[').str[-1]\n",
    "tracking['home_z1'] = tracking['home_z1'].str.split(']').str[0]\n",
    "tracking['home_x2'] = tracking['home_x2'].str.split('[').str[-1]\n",
    "tracking['home_z2'] = tracking['home_z2'].str.split(']').str[0]\n",
    "tracking['home_x3'] = tracking['home_x3'].str.split('[').str[-1]\n",
    "tracking['home_z3'] = tracking['home_z3'].str.split(']').str[0]\n",
    "tracking['home_x4'] = tracking['home_x4'].str.split('[').str[-1]\n",
    "tracking['home_z4'] = tracking['home_z4'].str.split(']').str[0]\n",
    "tracking['home_x5'] = tracking['home_x5'].str.split('[').str[-1]\n",
    "tracking['home_z5'] = tracking['home_z5'].str.split(']').str[0]\n",
    "\n",
    "tracking['away_x1'] = tracking['away_x1'].str.split('[').str[-1]\n",
    "tracking['away_z1'] = tracking['away_z1'].str.split(']').str[0]\n",
    "tracking['away_x2'] = tracking['away_x2'].str.split('[').str[-1]\n",
    "tracking['away_z2'] = tracking['away_z2'].str.split(']').str[0]\n",
    "tracking['away_x3'] = tracking['away_x3'].str.split('[').str[-1]\n",
    "tracking['away_z3'] = tracking['away_z3'].str.split(']').str[0]\n",
    "tracking['away_x4'] = tracking['away_x4'].str.split('[').str[-1]\n",
    "tracking['away_z4'] = tracking['away_z4'].str.split(']').str[0]\n",
    "tracking['away_x5'] = tracking['away_x5'].str.split('[').str[-1]\n",
    "tracking['away_z5'] = tracking['away_z5'].str.split(']').str[0]"
   ]
  },
  {
   "cell_type": "code",
   "execution_count": 8,
   "id": "582f0894",
   "metadata": {},
   "outputs": [
    {
     "data": {
      "text/html": [
       "<div>\n",
       "<style scoped>\n",
       "    .dataframe tbody tr th:only-of-type {\n",
       "        vertical-align: middle;\n",
       "    }\n",
       "\n",
       "    .dataframe tbody tr th {\n",
       "        vertical-align: top;\n",
       "    }\n",
       "\n",
       "    .dataframe thead th {\n",
       "        text-align: right;\n",
       "    }\n",
       "</style>\n",
       "<table border=\"1\" class=\"dataframe\">\n",
       "  <thead>\n",
       "    <tr style=\"text-align: right;\">\n",
       "      <th></th>\n",
       "      <th>frameIdx</th>\n",
       "      <th>ball</th>\n",
       "      <th>period</th>\n",
       "      <th>gameClock</th>\n",
       "      <th>gameClockStopped</th>\n",
       "      <th>shotClock</th>\n",
       "      <th>wallClock</th>\n",
       "      <th>nbaId</th>\n",
       "      <th>home_xyz1</th>\n",
       "      <th>home_jersey1</th>\n",
       "      <th>...</th>\n",
       "      <th>away_z2</th>\n",
       "      <th>away_x3</th>\n",
       "      <th>away_y3</th>\n",
       "      <th>away_z3</th>\n",
       "      <th>away_x4</th>\n",
       "      <th>away_y4</th>\n",
       "      <th>away_z4</th>\n",
       "      <th>away_x5</th>\n",
       "      <th>away_y5</th>\n",
       "      <th>away_z5</th>\n",
       "    </tr>\n",
       "  </thead>\n",
       "  <tbody>\n",
       "    <tr>\n",
       "      <th>0</th>\n",
       "      <td>113040</td>\n",
       "      <td>[6.85, 9.02, 4.35]</td>\n",
       "      <td>1</td>\n",
       "      <td>720.0</td>\n",
       "      <td>True</td>\n",
       "      <td>24.0</td>\n",
       "      <td>1652834771259</td>\n",
       "      <td>42100301</td>\n",
       "      <td>[1.92, -1.08, 0]</td>\n",
       "      <td>13</td>\n",
       "      <td>...</td>\n",
       "      <td>0</td>\n",
       "      <td>-1.75</td>\n",
       "      <td>-0.92</td>\n",
       "      <td>0</td>\n",
       "      <td>-1.42</td>\n",
       "      <td>6.92</td>\n",
       "      <td>0</td>\n",
       "      <td>-19.92</td>\n",
       "      <td>-1.92</td>\n",
       "      <td>0</td>\n",
       "    </tr>\n",
       "    <tr>\n",
       "      <th>1</th>\n",
       "      <td>113041</td>\n",
       "      <td>[6.84, 8.99, 4.37]</td>\n",
       "      <td>1</td>\n",
       "      <td>720.0</td>\n",
       "      <td>True</td>\n",
       "      <td>24.0</td>\n",
       "      <td>1652834771299</td>\n",
       "      <td>42100301</td>\n",
       "      <td>[1.92, -1.08, 0]</td>\n",
       "      <td>13</td>\n",
       "      <td>...</td>\n",
       "      <td>0</td>\n",
       "      <td>-1.77</td>\n",
       "      <td>-0.84</td>\n",
       "      <td>0</td>\n",
       "      <td>-1.42</td>\n",
       "      <td>6.92</td>\n",
       "      <td>0</td>\n",
       "      <td>-19.84</td>\n",
       "      <td>-1.85</td>\n",
       "      <td>0</td>\n",
       "    </tr>\n",
       "    <tr>\n",
       "      <th>2</th>\n",
       "      <td>113042</td>\n",
       "      <td>[6.83, 8.93, 4.36]</td>\n",
       "      <td>1</td>\n",
       "      <td>720.0</td>\n",
       "      <td>True</td>\n",
       "      <td>24.0</td>\n",
       "      <td>1652834771339</td>\n",
       "      <td>42100301</td>\n",
       "      <td>[1.92, -1.11, 0]</td>\n",
       "      <td>13</td>\n",
       "      <td>...</td>\n",
       "      <td>0</td>\n",
       "      <td>-1.81</td>\n",
       "      <td>-0.78</td>\n",
       "      <td>0</td>\n",
       "      <td>-1.42</td>\n",
       "      <td>6.92</td>\n",
       "      <td>0</td>\n",
       "      <td>-19.78</td>\n",
       "      <td>-1.78</td>\n",
       "      <td>0</td>\n",
       "    </tr>\n",
       "    <tr>\n",
       "      <th>3</th>\n",
       "      <td>113043</td>\n",
       "      <td>[6.81, 8.86, 4.36]</td>\n",
       "      <td>1</td>\n",
       "      <td>720.0</td>\n",
       "      <td>True</td>\n",
       "      <td>24.0</td>\n",
       "      <td>1652834771379</td>\n",
       "      <td>42100301</td>\n",
       "      <td>[1.92, -1.13, 0]</td>\n",
       "      <td>13</td>\n",
       "      <td>...</td>\n",
       "      <td>0</td>\n",
       "      <td>-1.83</td>\n",
       "      <td>-0.74</td>\n",
       "      <td>0</td>\n",
       "      <td>-1.42</td>\n",
       "      <td>6.92</td>\n",
       "      <td>0</td>\n",
       "      <td>-19.73</td>\n",
       "      <td>-1.71</td>\n",
       "      <td>0</td>\n",
       "    </tr>\n",
       "    <tr>\n",
       "      <th>4</th>\n",
       "      <td>113044</td>\n",
       "      <td>[6.79, 8.79, 4.36]</td>\n",
       "      <td>1</td>\n",
       "      <td>720.0</td>\n",
       "      <td>True</td>\n",
       "      <td>24.0</td>\n",
       "      <td>1652834771419</td>\n",
       "      <td>42100301</td>\n",
       "      <td>[1.92, -1.16, 0]</td>\n",
       "      <td>13</td>\n",
       "      <td>...</td>\n",
       "      <td>0</td>\n",
       "      <td>-1.85</td>\n",
       "      <td>-0.7</td>\n",
       "      <td>0</td>\n",
       "      <td>-1.42</td>\n",
       "      <td>6.92</td>\n",
       "      <td>0</td>\n",
       "      <td>-19.68</td>\n",
       "      <td>-1.64</td>\n",
       "      <td>0</td>\n",
       "    </tr>\n",
       "  </tbody>\n",
       "</table>\n",
       "<p>5 rows × 68 columns</p>\n",
       "</div>"
      ],
      "text/plain": [
       "   frameIdx                ball  period  gameClock  gameClockStopped  \\\n",
       "0    113040  [6.85, 9.02, 4.35]       1      720.0              True   \n",
       "1    113041  [6.84, 8.99, 4.37]       1      720.0              True   \n",
       "2    113042  [6.83, 8.93, 4.36]       1      720.0              True   \n",
       "3    113043  [6.81, 8.86, 4.36]       1      720.0              True   \n",
       "4    113044  [6.79, 8.79, 4.36]       1      720.0              True   \n",
       "\n",
       "   shotClock      wallClock     nbaId         home_xyz1  home_jersey1  ...  \\\n",
       "0       24.0  1652834771259  42100301  [1.92, -1.08, 0]            13  ...   \n",
       "1       24.0  1652834771299  42100301  [1.92, -1.08, 0]            13  ...   \n",
       "2       24.0  1652834771339  42100301  [1.92, -1.11, 0]            13  ...   \n",
       "3       24.0  1652834771379  42100301  [1.92, -1.13, 0]            13  ...   \n",
       "4       24.0  1652834771419  42100301  [1.92, -1.16, 0]            13  ...   \n",
       "\n",
       "  away_z2 away_x3  away_y3 away_z3 away_x4  away_y4 away_z4 away_x5  away_y5  \\\n",
       "0       0   -1.75    -0.92       0   -1.42     6.92       0  -19.92    -1.92   \n",
       "1       0   -1.77    -0.84       0   -1.42     6.92       0  -19.84    -1.85   \n",
       "2       0   -1.81    -0.78       0   -1.42     6.92       0  -19.78    -1.78   \n",
       "3       0   -1.83    -0.74       0   -1.42     6.92       0  -19.73    -1.71   \n",
       "4       0   -1.85     -0.7       0   -1.42     6.92       0  -19.68    -1.64   \n",
       "\n",
       "  away_z5  \n",
       "0       0  \n",
       "1       0  \n",
       "2       0  \n",
       "3       0  \n",
       "4       0  \n",
       "\n",
       "[5 rows x 68 columns]"
      ]
     },
     "execution_count": 8,
     "metadata": {},
     "output_type": "execute_result"
    }
   ],
   "source": [
    "tracking.head()"
   ]
  },
  {
   "cell_type": "code",
   "execution_count": 9,
   "id": "3a7e129a",
   "metadata": {},
   "outputs": [],
   "source": [
    "tracking['home_x1'] = tracking['home_x1'].astype(float)\n",
    "tracking['home_z1'] = tracking['home_z1'].astype(float)\n",
    "tracking['home_x2'] = tracking['home_x2'].astype(float)\n",
    "tracking['home_z2'] = tracking['home_z2'].astype(float)\n",
    "tracking['home_x3'] = tracking['home_x3'].astype(float)\n",
    "tracking['home_z3'] = tracking['home_z3'].astype(float)\n",
    "tracking['home_x4'] = tracking['home_x4'].astype(float)\n",
    "tracking['home_z4'] = tracking['home_z4'].astype(float)\n",
    "tracking['home_x5'] = tracking['home_x5'].astype(float)\n",
    "tracking['home_z5'] = tracking['home_z5'].astype(float)\n",
    "\n",
    "tracking['away_x1'] = tracking['away_x1'].astype(float)\n",
    "tracking['away_z1'] = tracking['away_z1'].astype(float)\n",
    "tracking['away_x2'] = tracking['away_x2'].astype(float)\n",
    "tracking['away_z2'] = tracking['away_z2'].astype(float)\n",
    "tracking['away_x3'] = tracking['away_x3'].astype(float)\n",
    "tracking['away_z3'] = tracking['away_z3'].astype(float)\n",
    "tracking['away_x4'] = tracking['away_x4'].astype(float)\n",
    "tracking['away_z4'] = tracking['away_z4'].astype(float)\n",
    "tracking['away_x5'] = tracking['away_x5'].astype(float)\n",
    "tracking['away_z5'] = tracking['away_z5'].astype(float)\n",
    "\n",
    "tracking['away_y1'] = tracking['away_y1'].astype(float)\n",
    "tracking['away_y2'] = tracking['away_y2'].astype(float)\n",
    "tracking['away_y3'] = tracking['away_y3'].astype(float)\n",
    "tracking['away_y4'] = tracking['away_y4'].astype(float)\n",
    "tracking['away_y5'] = tracking['away_y5'].astype(float)\n",
    "tracking['home_y1'] = tracking['home_y1'].astype(float)\n",
    "tracking['home_y2'] = tracking['home_y2'].astype(float)\n",
    "tracking['home_y3'] = tracking['home_y3'].astype(float)\n",
    "tracking['home_y4'] = tracking['home_y4'].astype(float)\n",
    "tracking['home_y5'] = tracking['home_y5'].astype(float)"
   ]
  },
  {
   "cell_type": "code",
   "execution_count": 10,
   "id": "6e18e2cb",
   "metadata": {},
   "outputs": [],
   "source": [
    "tracking[['ball_x', 'ball_y','ball_z']] = tracking['ball'].str.split(', ', expand=True)"
   ]
  },
  {
   "cell_type": "code",
   "execution_count": 11,
   "id": "0d896636",
   "metadata": {},
   "outputs": [],
   "source": [
    "tracking['ball_z'] = tracking['ball_z'].str.split(']').str[0]\n",
    "tracking['ball_x'] = tracking['ball_x'].str.split('[').str[-1]"
   ]
  },
  {
   "cell_type": "code",
   "execution_count": 12,
   "id": "2126bfed",
   "metadata": {},
   "outputs": [],
   "source": [
    "tracking['ball_x'] = tracking['ball_x'].astype(float)\n",
    "tracking['ball_z'] = tracking['ball_z'].astype(float)"
   ]
  },
  {
   "cell_type": "code",
   "execution_count": 13,
   "id": "f484d1a5",
   "metadata": {},
   "outputs": [
    {
     "data": {
      "text/plain": [
       "Index(['frameIdx', 'ball', 'period', 'gameClock', 'gameClockStopped',\n",
       "       'shotClock', 'wallClock', 'nbaId', 'home_xyz1', 'home_jersey1',\n",
       "       'homePlayer1', 'home_xyz2', 'home_jersey2', 'homePlayer2', 'home_xyz3',\n",
       "       'home_jersey3', 'homePlayer3', 'home_xyz4', 'home_jersey4',\n",
       "       'homePlayer4', 'home_xyz5', 'home_jersey5', 'homePlayer5', 'away_xyz1',\n",
       "       'away_jersey1', 'awayPlayer1', 'away_xyz2', 'away_jersey2',\n",
       "       'awayPlayer2', 'away_xyz3', 'away_jersey3', 'awayPlayer3', 'away_xyz4',\n",
       "       'away_jersey4', 'awayPlayer4', 'away_xyz5', 'away_jersey5',\n",
       "       'awayPlayer5', 'home_x1', 'home_y1', 'home_z1', 'home_x2', 'home_y2',\n",
       "       'home_z2', 'home_x3', 'home_y3', 'home_z3', 'home_x4', 'home_y4',\n",
       "       'home_z4', 'home_x5', 'home_y5', 'home_z5', 'away_x1', 'away_y1',\n",
       "       'away_z1', 'away_x2', 'away_y2', 'away_z2', 'away_x3', 'away_y3',\n",
       "       'away_z3', 'away_x4', 'away_y4', 'away_z4', 'away_x5', 'away_y5',\n",
       "       'away_z5', 'ball_x', 'ball_y', 'ball_z'],\n",
       "      dtype='object')"
      ]
     },
     "execution_count": 13,
     "metadata": {},
     "output_type": "execute_result"
    }
   ],
   "source": [
    "tracking.columns"
   ]
  },
  {
   "cell_type": "code",
   "execution_count": 14,
   "id": "8d957ada",
   "metadata": {},
   "outputs": [],
   "source": [
    "columns_to_drop = ['ball', 'home_xyz1', 'home_xyz2', 'home_xyz3', 'home_xyz4', 'home_xyz5',\n",
    "                  'away_xyz1', 'away_xyz2', 'away_xyz3', 'away_xyz4', 'away_xyz5',]\n",
    "tracking.drop(columns_to_drop, axis=1, inplace=True)"
   ]
  },
  {
   "cell_type": "code",
   "execution_count": 15,
   "id": "e5133479",
   "metadata": {},
   "outputs": [],
   "source": [
    "# Saving tacking table (optional)\n",
    "#tracking.to_csv(r\"trackings.csv\", index=False)"
   ]
  },
  {
   "cell_type": "code",
   "execution_count": null,
   "id": "09ce8c69",
   "metadata": {},
   "outputs": [],
   "source": []
  }
 ],
 "metadata": {
  "kernelspec": {
   "display_name": "Python 3 (ipykernel)",
   "language": "python",
   "name": "python3"
  },
  "language_info": {
   "codemirror_mode": {
    "name": "ipython",
    "version": 3
   },
   "file_extension": ".py",
   "mimetype": "text/x-python",
   "name": "python",
   "nbconvert_exporter": "python",
   "pygments_lexer": "ipython3",
   "version": "3.9.13"
  },
  "toc": {
   "base_numbering": 1,
   "nav_menu": {},
   "number_sections": true,
   "sideBar": true,
   "skip_h1_title": false,
   "title_cell": "Table of Contents",
   "title_sidebar": "Contents",
   "toc_cell": false,
   "toc_position": {},
   "toc_section_display": true,
   "toc_window_display": false
  },
  "varInspector": {
   "cols": {
    "lenName": 16,
    "lenType": 16,
    "lenVar": 40
   },
   "kernels_config": {
    "python": {
     "delete_cmd_postfix": "",
     "delete_cmd_prefix": "del ",
     "library": "var_list.py",
     "varRefreshCmd": "print(var_dic_list())"
    },
    "r": {
     "delete_cmd_postfix": ") ",
     "delete_cmd_prefix": "rm(",
     "library": "var_list.r",
     "varRefreshCmd": "cat(var_dic_list()) "
    }
   },
   "types_to_exclude": [
    "module",
    "function",
    "builtin_function_or_method",
    "instance",
    "_Feature"
   ],
   "window_display": false
  }
 },
 "nbformat": 4,
 "nbformat_minor": 5
}
